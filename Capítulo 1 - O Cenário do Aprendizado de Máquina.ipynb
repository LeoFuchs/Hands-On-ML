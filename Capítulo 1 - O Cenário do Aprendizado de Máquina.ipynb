{
 "cells": [
  {
   "cell_type": "markdown",
   "metadata": {},
   "source": [
    "# Capítulo 1: O Cenário do Aprendizado de Máquina\n",
    "\n",
    "O Aprendizado de Máquina é a ciência (e a arte) de programar computadores para que eles possam aprender com os dados. Mineração de Dados por sua vez é a aplicação de técnicas de Aprendizado de Máquina com o objetivo de analisar grandes volumes de dados visando ajudar a descobrir padrões que não são visualmente aparentes.\n",
    "\n",
    "Existem alguns tipos diferentes de sistemas de Aprendizado de Máquina que é útil classificá-los em categorias amplas com base em: \n",
    "- Se eles são ou não treinados com supervisão humana (supervisionado, não supervisionado, semi-supervisionado e aprendizado por reforço) \n",
    "- Se eles podem ou não podem aprender de forma incremental em tempo real (online ou aprendizado batch) \n",
    "- Se eles trabalham simplesmente comparando novos pontos de dados a pontos de dados conhecidos, ou, em vez disso, detectem padrões nos dados de treinamento e construam um modelo preditivo, muito parecido com o que os cientistas fazem (modelo baseado em instância ou modelo baseado em aprendizagem)\n",
    "\n",
    "**Aprendizado Supervisionado**: No aprendizado supervisionado, os dados de treinamento que você fornece ao algoritmo incluem as soluções desejadas, chamadas de rótulos (labels). Uma tarefa típica de aprendizagem supervisionada é a classificação. O filtro de spam é um bom exemplo disso: ele é treinado com muitos e-mails de exemplo junto com sua classe (spam ou não spam) e deve aprender a classificar novos e-mails. \n",
    "Outra tarefa típica é prever um valor numérico alvo, como o preço de um carro, dado um conjunto de características (features) (quilometragem, idade, marca, etc.) chamado preditores (predictors). Este tipo de tarefa é chamada de regressão. Para treinar este modelo, você precisaria fornecer a ele muitos exemplos de carros, incluindo seus preditores e seus rótulos (ou seja, seus preços).\n",
    "\n",
    "Alguns dos principais algoritmos para aprendizado supervisionado são: k-Nearest Neighbors (KNN), Linear Regression, Logistic Regression, Support Vector Machines (SVMs), Decision Trees e Random Forest.\n",
    "\n",
    "**Aprendizado Não Supervisionado**: No aprendizado não supervisionado, os dados de treinamento não são rotulados. O sistema tenta aprender sem um professor.\n",
    "\n",
    "Alguns dos principais algoritmos para aprendizado supervisionado são: K-Means, DBSCAN, HCA (Hierarchical Cluster Analysis) para clusterização, One-class SVM e Isolation Forest para detecção de anomalias e novidade, PCA (Principal Component Analysis, Kernel PCA, LLE (Locally-Linear Embedding e t-SNE (t-distributed Stochastic Neighbor Embedding para visualização e redução de dimensionalidade e Apriori e Eclat para aprendizado via regras de associação.\n",
    "\n",
    "**Aprendizado Semi-Supervisionado**: No aprendizado semi-supervisionado, os algoritmos lidam com dados de treinamento parcialmente rotulados, onde geralmente muitos dados estão não rotulados e um pouco dos dados estão rotulados.\n",
    "\n",
    "A maioria dos algoritmos semi supervisionados são combinações de algoritmos supervisionados e não supervisionados.\n",
    "\n",
    "**Aprendizado por Reforço**: Aprendizagem por Reforço é bem diferente. O sistema de aprendizagem, chamado de agente (agent) neste contexto, pode observar o ambiente, selecionar e executar ações e obter recompensas (rewards) em troca (ou penalidades na forma de recompensas negativas). Ele deve então aprender por si mesmo qual é a melhor estratégia, chamada de política (policy), para obter a maior recompensa ao longo do tempo. Uma política define qual ação o agente deve escolher quando estiver em uma determinada situação.\n",
    "\n",
    "Outro critério usado para classificar sistemas de aprendizado de máquina é se o sistema pode ou não aprender incrementalmente a partir de um fluxo de dados de entrada.\n",
    "\n",
    "**Aprendizado em Lote (Batch Learning)**: No aprendizado em lote, o sistema é incapaz de aprender de forma incremental: ele deve ser treinado usando todos os dados disponíveis. Isso geralmente leva muito tempo e recursos de computação, portanto, normalmente é feito offline. Primeiro o sistema é treinado e, em seguida, é lançado em produção e funciona sem aprender mais; apenas aplica o que aprendeu. Isso é chamado de aprendizagem offline.\n",
    "\n",
    "**Aprendizado Online**: No aprendizado online, você treina o sistema de forma incremental, alimentando-o com instâncias de dados sequencialmente, individualmente ou por pequenos grupos chamados mini-batches. Cada etapa de aprendizado é rápida e barata, então o sistema pode aprender sobre novos dados rapidamente, assim que eles chegarem. \n",
    "Um parâmetro importante dos sistemas de aprendizado online é a rapidez com que devem se adaptar aos dados variáveis: isso é chamado de taxa de aprendizagem (learning rate). Se você definir uma alta taxa de aprendizado, seu sistema se adaptará rapidamente aos novos dados, mas também tenderá a esquecer rapidamente os dados antigos. Por outro lado, se você definir uma taxa de aprendizado baixa, o sistema terá mais inércia; ou seja, ele aprenderá mais lentamente, mas também será menos sensível a ruídos nos novos dados ou a sequências de pontos de dados não representativos (outliers).\n",
    "\n"
   ]
  },
  {
   "cell_type": "markdown",
   "metadata": {},
   "source": [
    "Outra maneira de categorizar os sistemas de aprendizado de máquina é pela maneira como eles generalizam. A maioria das tarefas de aprendizado de máquina é sobre fazer previsões. Isso significa que, dado uma série de exemplos de treinamento, o sistema precisa ser capaz de generalizar para exemplos que nunca viu antes. Ter uma boa medida de desempenho nos dados de treinamento é bom, mas insuficiente; o verdadeiro objetivo é ter um bom desempenho em novas instâncias.\n",
    "Existem duas abordagens principais para a generalização: aprendizado baseado em instâncias e aprendizado baseado em modelos.\n",
    "\n",
    "**Aprendizado Baseado em Instâncias**: No aprendizado baseado em instâncias, o sistema aprende os exemplos de cor e, em seguida, generaliza para novos casos comparando-os com os exemplos aprendidos (ou um subconjunto deles), usando alguma medida de similaridade.\n"
   ]
  },
  {
   "cell_type": "markdown",
   "metadata": {},
   "source": [
    "<p align=\"center\">\n",
    "    <img alt=\"Tela Gerenciador\" src=\"images/landscape/Figura1.png\">\n",
    "</p>\n",
    "<p align=\"center\">\n",
    "<b>Figura 1.</b> Aprendizado Baseado em Instâncias.\n",
    "</p>"
   ]
  },
  {
   "cell_type": "markdown",
   "metadata": {},
   "source": [
    "**Aprendizado Baseado em Modelos**: Outra maneira de generalizar a partir de um conjunto de exemplos é construir um modelo desses exemplos e, em seguida, usar esse modelo para fazer previsões. Esta abordagem é então denominada de aprendizado baseado em modelos."
   ]
  },
  {
   "cell_type": "markdown",
   "metadata": {},
   "source": [
    "<p align=\"center\">\n",
    "    <img alt=\"Tela Gerenciador\" src=\"images/landscape/Figura2.png\">\n",
    "</p>\n",
    "<p align=\"center\">\n",
    "<b>Figura 2.</b> Aprendizado Baseado em Modelos.\n",
    "</p>"
   ]
  },
  {
   "cell_type": "markdown",
   "metadata": {},
   "source": [
    "Um projeto de aprendizado de máquina clássico é composto pelos seguintes passos: \n",
    "- Estudo dos dados. \n",
    "- Seleção de um modelo. \n",
    "- Treinamento do modelo usando os dados de treinamento (ou seja, o algoritmo de aprendizagem pesquisou os valores dos parâmetros do modelo que minimizam uma função de custo).\n",
    "- Aplicação do modelo para fazer previsões sobre novos casos (isso é chamado de inferência), esperando que esse modelo generalize bem.\n",
    "\n",
    "Principais Desafios do Aprendizado de Máquina: Em resumo, como a tarefa principal é selecionar um algoritmo de aprendizado e treiná-lo com alguns dados, as duas coisas que podem dar errado são “algoritmo ruim” e “dados ruins”. Vamos começar com exemplos de dados ruins.\n",
    "1. Quantidade insuficiente de dados de treinamento;\n",
    "2. Dados de treinamento não representativos;\n",
    "3. Dados de baixa qualidade;\n",
    "4. Features irrelevantes;\n",
    "Agora alguns exemplos de algoritmos ruins.\n",
    "1. Sobreajuste (Overfitting) dos dados de treinamento;\n",
    "2. Sub Ajuste (Underfitting) dos dados de treinamento;\n",
    "\n",
    "**Teste e Validação**\n",
    "A única maneira de saber quão bem um modelo irá generalizar para novos casos é realmente experimentá-lo em novos casos. Uma maneira de fazer isso é colocar seu modelo em produção e monitorar seu desempenho. Isso funciona bem, mas se o seu modelo for terrivelmente ruim, os usuários reclamarão - o que não é a melhor ideia.\n",
    "Uma opção melhor é dividir seus dados em dois conjuntos: o conjunto de treinamento e o conjunto de teste. Como esses nomes indicam, você treina seu modelo usando o conjunto de treinamento e o testa usando o conjunto de teste. A taxa de erro em novos casos é chamada de erro de generalização e, avaliando seu modelo no conjunto de teste, você obtém uma estimativa desse erro. Este valor informa o quão bem o seu modelo executará em instâncias que nunca viu antes.\n",
    "Se o erro de treinamento for baixo (ou seja, seu modelo comete poucos erros no conjunto de treinamento), mas o erro de generalização for alto, significa que seu modelo está com overfitting dos dados de treinamento. É comum usar 80% dos dados para treinamento e reservar 20% para teste.\n",
    "\n",
    "**Tuning de Hiperparâmetros e Seleção de Modelos**\n",
    "Suponha que você esteja em dúvida entre dois modelos (digamos, um modelo linear e um modelo polinomial): como você irá escolher? Uma opção é treinar ambos e comparar quão bem eles generalizam usando o conjunto de teste.\n",
    "\n",
    "Agora suponha que o modelo linear generalize melhor, mas você deseja aplicar alguma regularização para evitar o sobreajuste. A questão é: como você escolhe o valor do hiperparâmetro de regularização? Uma opção é treinar 100 modelos diferentes usando 100 valores diferentes para este hiperparâmetro. Suponha que você encontre o melhor valor de hiperparâmetro que produz um modelo com o menor erro de generalização, digamos apenas 5% de erro.\n",
    "\n",
    "Então, você coloca este modelo em produção, mas infelizmente ele não funciona tão bem quanto o esperado e produz 15% de erros. O que acabou de acontecer?\n",
    "\n",
    "O problema é que você mediu o erro de generalização várias vezes no conjunto de teste e adaptou o modelo e os hiperparâmetros para produzir o melhor modelo para aquele conjunto específico. Isso significa que é improvável que o modelo tenha um desempenho tão bom com novos dados.\n",
    "\n",
    "Uma solução comum para esse problema é chamada holdout validation: você simplesmente exibe parte do conjunto de treinamento para avaliar vários modelos candidatos e selecionar o melhor. O novo conjunto retido é chamado de conjunto de validação. Mais especificamente, você treina vários modelos com vários hiperparâmetros no conjunto de treinamento reduzido (ou seja, o conjunto de treinamento completo menos o conjunto de validação) e seleciona o modelo com melhor desempenho no conjunto de validação. Após esse processo, você treina o melhor modelo no conjunto de treinamento completo (incluindo o conjunto de validação) e isso dá a você o modelo final. Por último, você avalia este modelo final no conjunto de testes para obter uma estimativa do erro de generalização."
   ]
  }
 ],
 "metadata": {
  "kernelspec": {
   "display_name": "Python 3",
   "language": "python",
   "name": "python3"
  },
  "language_info": {
   "codemirror_mode": {
    "name": "ipython",
    "version": 3
   },
   "file_extension": ".py",
   "mimetype": "text/x-python",
   "name": "python",
   "nbconvert_exporter": "python",
   "pygments_lexer": "ipython3",
   "version": "3.7.6"
  },
  "toc": {
   "base_numbering": 1,
   "nav_menu": {
    "height": "265px",
    "width": "193px"
   },
   "number_sections": true,
   "sideBar": true,
   "skip_h1_title": false,
   "title_cell": "Table of Contents",
   "title_sidebar": "Contents",
   "toc_cell": false,
   "toc_position": {},
   "toc_section_display": true,
   "toc_window_display": false
  }
 },
 "nbformat": 4,
 "nbformat_minor": 4
}
