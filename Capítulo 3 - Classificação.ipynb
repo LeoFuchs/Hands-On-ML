{
 "cells": [
  {
   "cell_type": "markdown",
   "metadata": {},
   "source": [
    "# Capítulo 3 - Classificação\n",
    "\n",
    "Neste capítulo, usaremos o conjunto de dados MNIST, que é um conjunto de 70.000 pequenas imagens de dígitos escritos à mão por alunos do ensino médio e funcionários do US Center Bureau. Cada imagem é identificada com o dígito que representa. Este conjunto foi estudado tanto que é frequentemente chamado de “Hello World” do Machine Learning: sempre que as pessoas apresentam um novo algoritmo de classificação, elas ficam curiosas para ver como será o desempenho no MNIST."
   ]
  },
  {
   "cell_type": "code",
   "execution_count": 1,
   "metadata": {},
   "outputs": [],
   "source": [
    "# Importando bibliotecas\n",
    "import warnings\n",
    "import matplotlib.pyplot as plt\n",
    "import matplotlib as mpl\n",
    "import os\n",
    "import numpy as np\n",
    "import sklearn\n",
    "import sys\n",
    "\n",
    "# Setando algumas configurações e avisos\n",
    "%matplotlib inline\n",
    "mpl.rc('axes', labelsize=14)\n",
    "mpl.rc('xtick', labelsize=12)\n",
    "mpl.rc('ytick', labelsize=12)\n",
    "warnings.filterwarnings(action=\"ignore\", message=\"^internal gelsd\")\n",
    "\n",
    "# Onde salvar as figuras\n",
    "PROJECT_ROOT_DIR = \".\"\n",
    "CHAPTER_ID = \"capitulo-3\"\n",
    "IMAGES_PATH = os.path.join(PROJECT_ROOT_DIR, \"figuras\", CHAPTER_ID)\n",
    "os.makedirs(IMAGES_PATH, exist_ok=True)\n",
    "\n",
    "\n",
    "# Criando função para salvamento de figuras\n",
    "def save_fig(fig_id, tight_layout=True, fig_extension=\"png\", resolution=300):\n",
    "    path = os.path.join(IMAGES_PATH, fig_id + \".\" + fig_extension)\n",
    "    print(\"Salvando Figura\", fig_id)\n",
    "    if tight_layout:\n",
    "        plt.tight_layout()\n",
    "    plt.savefig(path, format=fig_extension, dpi=resolution)"
   ]
  },
  {
   "cell_type": "markdown",
   "metadata": {},
   "source": [
    "## 3.1 MNIST Dataset"
   ]
  },
  {
   "cell_type": "markdown",
   "metadata": {},
   "source": [
    "O Scikit-Learn oferece muitas funções auxiliares para baixar conjuntos de dados populares. MNIST é um deles. O código a seguir busca o conjunto de dados MNIST:"
   ]
  },
  {
   "cell_type": "code",
   "execution_count": 2,
   "metadata": {},
   "outputs": [
    {
     "data": {
      "text/plain": [
       "dict_keys(['data', 'target', 'frame', 'feature_names', 'target_names', 'DESCR', 'details', 'categories', 'url'])"
      ]
     },
     "execution_count": 2,
     "metadata": {},
     "output_type": "execute_result"
    }
   ],
   "source": [
    "from sklearn.datasets import fetch_openml\n",
    "mnist = fetch_openml('mnist_784', version=1)\n",
    "mnist.keys()"
   ]
  },
  {
   "cell_type": "markdown",
   "metadata": {},
   "source": [
    "Os conjuntos de dados carregados pelo Scikit-Learn geralmente têm uma estrutura de dicionário semelhante, incluindo:\n",
    "- Uma chave DESCR que descreve o conjunto de dados \n",
    "- Uma chave `data` contendo uma matriz com uma linha por instância e uma coluna por _feature_\n",
    "- Uma chave `taget` contendo uma matriz com os _labels_ (rótulos)\n",
    "\n",
    "Vejamos estes arrays:"
   ]
  },
  {
   "cell_type": "code",
   "execution_count": 3,
   "metadata": {},
   "outputs": [
    {
     "data": {
      "text/plain": [
       "(70000, 784)"
      ]
     },
     "execution_count": 3,
     "metadata": {},
     "output_type": "execute_result"
    }
   ],
   "source": [
    "X, y = mnist[\"data\"], mnist[\"target\"]\n",
    "X.shape"
   ]
  },
  {
   "cell_type": "markdown",
   "metadata": {},
   "source": [
    "y.shape"
   ]
  },
  {
   "cell_type": "markdown",
   "metadata": {},
   "source": [
    "Existem 70.000 imagens e cada imagem tem 784 recursos. Isso ocorre porque cada imagem tem 28 × 28 pixels, e cada recurso simplesmente representa a intensidade de um pixel, de 0 (branco) a 255 (preto). Vamos dar uma olhada em um dígito do conjunto de dados. Tudo que você precisa fazer é pegar o vetor de recurso de uma instância, remodelá-lo para uma matriz 28 × 28 e exibi-lo usando a função `imshow()` do Matplotlib:"
   ]
  },
  {
   "cell_type": "code",
   "execution_count": 4,
   "metadata": {},
   "outputs": [
    {
     "data": {
      "image/png": "[encoded data removed]",
      "text/plain": [
       "<Figure size 432x288 with 1 Axes>"
      ]
     },
     "metadata": {
      "needs_background": "light"
     },
     "output_type": "display_data"
    }
   ],
   "source": [
    "%matplotlib inline\n",
    "import matplotlib as mpl\n",
    "import matplotlib.pyplot as plt\n",
    "\n",
    "# Selecionando a primeira instância da matriz X\n",
    "some_digit = X[0]\n",
    "\n",
    "# Transformando a linha com 784 elementos em uma matriz 28x28\n",
    "some_digit_image = some_digit.reshape(28, 28)\n",
    "\n",
    "# Imprimindo a imagem da instância escolhida\n",
    "plt.imshow(some_digit_image, cmap=mpl.cm.binary)\n",
    "plt.axis(\"off\")\n",
    "\n",
    "plt.show()"
   ]
  },
  {
   "cell_type": "markdown",
   "metadata": {},
   "source": [
    "Isto se parece com um número 5, para confirmarmos se é isto mesmo, analisaremos o rótulo (_label_):"
   ]
  },
  {
   "cell_type": "code",
   "execution_count": 5,
   "metadata": {},
   "outputs": [
    {
     "data": {
      "text/plain": [
       "'5'"
      ]
     },
     "execution_count": 5,
     "metadata": {},
     "output_type": "execute_result"
    }
   ],
   "source": [
    "y[0]"
   ]
  },
  {
   "cell_type": "markdown",
   "metadata": {},
   "source": [
    "Observe que o rótulo é uma string. Preferimos números, então vamos converter y em inteiros:"
   ]
  },
  {
   "cell_type": "code",
   "execution_count": 6,
   "metadata": {},
   "outputs": [],
   "source": [
    "y = y.astype(np.uint8)"
   ]
  },
  {
   "cell_type": "markdown",
   "metadata": {},
   "source": [
    "Podemos então criar uma função que imprima um único dígito, ou até uma função que imprima diversos dígitos:"
   ]
  },
  {
   "cell_type": "code",
   "execution_count": 7,
   "metadata": {},
   "outputs": [],
   "source": [
    "# Função que imprime um único dígito\n",
    "def plot_digit(data):\n",
    "    image = data.reshape(28, 28)\n",
    "    plt.imshow(image, cmap = mpl.cm.binary,\n",
    "               interpolation=\"nearest\")\n",
    "    plt.axis(\"off\")"
   ]
  },
  {
   "cell_type": "code",
   "execution_count": 8,
   "metadata": {},
   "outputs": [],
   "source": [
    "# Função que imprime uma matriz de dígitos\n",
    "def plot_digits(instances, images_per_row=10, **options):\n",
    "    size = 28\n",
    "    images_per_row = min(len(instances), images_per_row)\n",
    "    \n",
    "    images = [instance.reshape(size,size) for instance in instances]\n",
    "    n_rows = (len(instances) - 1) // images_per_row + 1\n",
    "    \n",
    "    row_images = []\n",
    "    \n",
    "    n_empty = n_rows * images_per_row - len(instances)\n",
    "    \n",
    "    images.append(np.zeros((size, size * n_empty)))\n",
    "    \n",
    "    for row in range(n_rows):\n",
    "        rimages = images[row * images_per_row : (row + 1) * images_per_row]\n",
    "        row_images.append(np.concatenate(rimages, axis=1))\n",
    "        \n",
    "    image = np.concatenate(row_images, axis=0)\n",
    "    \n",
    "    plt.imshow(image, cmap = mpl.cm.binary, **options)\n",
    "    plt.axis(\"off\")"
   ]
  },
  {
   "cell_type": "code",
   "execution_count": 9,
   "metadata": {},
   "outputs": [
    {
     "data": {
      "image/png": "[encoded data removed]",
      "text/plain": [
       "<Figure size 432x288 with 1 Axes>"
      ]
     },
     "metadata": {
      "needs_background": "light"
     },
     "output_type": "display_data"
    },
    {
     "data": {
      "text/plain": [
       "<Figure size 648x648 with 0 Axes>"
      ]
     },
     "metadata": {},
     "output_type": "display_data"
    }
   ],
   "source": [
    "# Testando a função plot_digits com 100 dígitos, sendo 10 por linha\n",
    "example_images = X[:100]\n",
    "plot_digits(example_images, images_per_row=10)\n",
    "\n",
    "plt.figure(figsize=(9,9))\n",
    "plt.show()"
   ]
  },
  {
   "cell_type": "markdown",
   "metadata": {},
   "source": [
    "Você sempre deve criar um conjunto de teste e colocá-lo de lado antes de inspecionar os dados de perto. O conjunto de dados MNIST já está dividido em um conjunto de treinamento (as primeiras 60.000 imagens) e um conjunto de teste (as últimas 10.000 imagens):"
   ]
  },
  {
   "cell_type": "code",
   "execution_count": 10,
   "metadata": {},
   "outputs": [],
   "source": [
    "X_train, X_test, y_train, y_test = X[:60000], X[60000:], y[:60000], y[60000:]"
   ]
  },
  {
   "cell_type": "markdown",
   "metadata": {},
   "source": [
    "## 3.2 Treinando um Classificado Binário"
   ]
  },
  {
   "cell_type": "markdown",
   "metadata": {},
   "source": [
    "Vamos simplificar o problema por enquanto e tentar identificar apenas um dígito - por exemplo, o número 5. Este \"detector de 5\" será um exemplo de um classificador binário, capaz de distinguir entre apenas duas classes, 5 e não-5. Vamos criar os vetores de destino para esta tarefa de classificação:"
   ]
  },
  {
   "cell_type": "code",
   "execution_count": 11,
   "metadata": {},
   "outputs": [],
   "source": [
    "# Recebe True para todos os 5, e False para os outros dígitos \n",
    "y_train_5 = (y_train == 5)\n",
    "y_test_5 = (y_test == 5)"
   ]
  },
  {
   "cell_type": "markdown",
   "metadata": {},
   "source": [
    "Ok, agora vamos escolher um classificador e treiná-lo. Um bom lugar para começar é com um classificador _Stochastic Gradient Descent (SGD)_, usando a classe SGDClassifier do Scikit-Learn. Este classificador tem a vantagem de ser capaz de manipular conjuntos de dados muito grandes com eficiência. Isso ocorre em parte porque o SGD lida com instâncias de treinamento de forma independente, uma de cada vez. Vamos criar um SGDClassifier e treiná-lo em todo o conjunto de treinamento:"
   ]
  },
  {
   "cell_type": "code",
   "execution_count": 12,
   "metadata": {},
   "outputs": [
    {
     "data": {
      "text/plain": [
       "SGDClassifier(alpha=0.0001, average=False, class_weight=None,\n",
       "              early_stopping=False, epsilon=0.1, eta0=0.0, fit_intercept=True,\n",
       "              l1_ratio=0.15, learning_rate='optimal', loss='hinge',\n",
       "              max_iter=1000, n_iter_no_change=5, n_jobs=None, penalty='l2',\n",
       "              power_t=0.5, random_state=42, shuffle=True, tol=0.001,\n",
       "              validation_fraction=0.1, verbose=0, warm_start=False)"
      ]
     },
     "execution_count": 12,
     "metadata": {},
     "output_type": "execute_result"
    }
   ],
   "source": [
    "from sklearn.linear_model import SGDClassifier\n",
    "\n",
    "# Inicializando e ajustando o SGDClassifier aos dados de treino\n",
    "sgd_clf = SGDClassifier(max_iter=1000, tol=1e-3, random_state=42)\n",
    "sgd_clf.fit(X_train, y_train_5)"
   ]
  },
  {
   "cell_type": "code",
   "execution_count": 13,
   "metadata": {},
   "outputs": [
    {
     "data": {
      "text/plain": [
       "array([ True])"
      ]
     },
     "execution_count": 13,
     "metadata": {},
     "output_type": "execute_result"
    }
   ],
   "source": [
    "# Predizendo para o X[0] que é um dígito 5\n",
    "sgd_clf.predict([some_digit])"
   ]
  },
  {
   "cell_type": "markdown",
   "metadata": {},
   "source": [
    "O classificador adivinhou que esta imagem representa um 5 (Verdadeiro). Parece que acertou neste caso em particular! Agora, vamos avaliar o desempenho deste modelo."
   ]
  },
  {
   "cell_type": "markdown",
   "metadata": {},
   "source": [
    "## 3.3 Medidas de Desempenho\n",
    "\n",
    "Avaliar um classificador costuma ser significativamente mais complicado do que avaliar um regressor, portanto, passaremos grande parte deste capítulo neste tópico. Existem muitas medidas de desempenho disponíveis."
   ]
  },
  {
   "cell_type": "markdown",
   "metadata": {},
   "source": [
    "### 3.3.1 Medindo a Precisão Usando Validação Cruzada"
   ]
  },
  {
   "cell_type": "markdown",
   "metadata": {},
   "source": [
    "Vamos usar a função `cross_val_score()` para avaliar seu modelo SGDClassifier usando validação cruzada K-fold, com três _folds_. Lembre-se de que a validação cruzada K-fold significa dividir o conjunto de treinamento em K-folds (neste caso, três), e então fazer previsões e avaliá-las em cada _fold_ usando um modelo treinado nas dobras restantes."
   ]
  },
  {
   "cell_type": "code",
   "execution_count": 14,
   "metadata": {},
   "outputs": [
    {
     "data": {
      "text/plain": [
       "array([0.95035, 0.96035, 0.9604 ])"
      ]
     },
     "execution_count": 14,
     "metadata": {},
     "output_type": "execute_result"
    }
   ],
   "source": [
    "from sklearn.model_selection import cross_val_score\n",
    "cross_val_score(sgd_clf, X_train, y_train_5, cv=3, scoring=\"accuracy\")"
   ]
  },
  {
   "cell_type": "markdown",
   "metadata": {},
   "source": [
    "Precisão acima de 93% em todas os _folds_ de validação cruzada? Isso parece incrível, não é? Bem, antes que você fique muito animado, vamos dar uma olhada em um classificador muito burro que apenas classifica cada imagem na classe \"não-5\":"
   ]
  },
  {
   "cell_type": "code",
   "execution_count": 15,
   "metadata": {},
   "outputs": [],
   "source": [
    "from sklearn.base import BaseEstimator\n",
    "\n",
    "# Criando uma função que sempre classifica o dígito como não-5\n",
    "class Never5Classifier(BaseEstimator):\n",
    "    def fit(self, X, y=None):\n",
    "        pass\n",
    "    def predict(self, X):\n",
    "        return np.zeros((len(X), 1), dtype=bool)"
   ]
  },
  {
   "cell_type": "markdown",
   "metadata": {},
   "source": [
    "Testaremos agora a precisão deste modelo então:"
   ]
  },
  {
   "cell_type": "code",
   "execution_count": 16,
   "metadata": {},
   "outputs": [
    {
     "data": {
      "text/plain": [
       "array([0.91125, 0.90855, 0.90915])"
      ]
     },
     "execution_count": 16,
     "metadata": {},
     "output_type": "execute_result"
    }
   ],
   "source": [
    "never_5_clf = Never5Classifier()\n",
    "cross_val_score(never_5_clf, X_train, y_train_5, cv=3, scoring=\"accuracy\")"
   ]
  },
  {
   "cell_type": "markdown",
   "metadata": {},
   "source": [
    "Isso mesmo, tem mais de 90% de precisão! Isso ocorre simplesmente porque apenas cerca de 10% das imagens são 5s, então, se você sempre adivinhar que uma imagem não é um 5, você estará certo cerca de 90% das vezes. Isso demonstra por que a precisão geralmente não é a medida de desempenho preferida para classificadores, especialmente quando você está lidando com conjuntos de _skewed_ datasets (ou seja, quando algumas classes são muito mais frequentes do que outras)."
   ]
  },
  {
   "cell_type": "markdown",
   "metadata": {},
   "source": [
    "### 3.3.2 Matriz de Confusão\n",
    "\n",
    "Uma maneira muito melhor de avaliar o desempenho de um classificador é examinar a matriz de confusão. A ideia geral é contar o número de vezes que as instâncias da classe A são classificadas como classe B. Por exemplo, para saber o número de vezes que o classificador confundiu imagens de 5s com 3s, você procuraria na 5ª linha e na 3ª coluna do matriz de confusão.\n",
    "\n",
    "Para calcular a matriz de confusão, primeiro você precisa ter um conjunto de predições, para que possam ser comparadas aos alvos reais. Você poderia fazer a predição no conjunto de teste, mas vamos mantê-lo intocado por enquanto (lembre-se de que você deseja usar o conjunto de teste apenas no final do seu projeto, assim que tiver um classificador que está pronto para lançar). Em vez disso, você pode usar a função `cross_val_predict()`:"
   ]
  },
  {
   "cell_type": "code",
   "execution_count": 17,
   "metadata": {},
   "outputs": [],
   "source": [
    "from sklearn.model_selection import cross_val_predict\n",
    "\n",
    "# Realizando a validação cruzada no modelo SGDClassifier\n",
    "y_train_pred = cross_val_predict(sgd_clf, X_train, y_train_5, cv=3)"
   ]
  },
  {
   "cell_type": "markdown",
   "metadata": {},
   "source": [
    "Assim como a função `cross_val_score()`, `cross_val_predict()` realiza validação cruzada K-fold, mas em vez de retornar as pontuações de avaliação, ela retorna as previsões feitas em cada _fold_ teste. Isso significa que você obtém uma previsão limpa para cada instância no conjunto de treinamento (\"limpo\" significa que a previsão é feita por um modelo que nunca viu os dados durante o treinamento). \n",
    "\n",
    "Agora você está pronto para obter a matriz de confusão usando a função `confused_matrix()`. Basta passar as classes de destino (y_train_5) e as classes previstas (y_train_pred):"
   ]
  },
  {
   "cell_type": "code",
   "execution_count": 18,
   "metadata": {},
   "outputs": [
    {
     "data": {
      "text/plain": [
       "array([[53892,   687],\n",
       "       [ 1891,  3530]])"
      ]
     },
     "execution_count": 18,
     "metadata": {},
     "output_type": "execute_result"
    }
   ],
   "source": [
    "from sklearn.metrics import confusion_matrix\n",
    "\n",
    "# Gerando a matriz de confusão do dataset de treino\n",
    "confusion_matrix(y_train_5, y_train_pred)"
   ]
  },
  {
   "cell_type": "markdown",
   "metadata": {},
   "source": [
    "Cada linha em uma matriz de confusão representa uma classe atual, enquanto cada coluna representa uma classe predita. \n",
    "\n",
    "A primeira linha desta matriz considera imagens não são 5s (a classe negativa): 53.892 delas foram classificadas corretamente como não 5s (são chamadas de verdadeiro negativo), enquanto as restantes 687 foram classificadas erroneamente como 5s (falsos positivos). \n",
    "\n",
    "A segunda linha considera as imagens que são 5s (a classe positiva): 1.891 foram erroneamente classificadas como não-5s (falsos negativos), enquanto as 3.530 restantes foram classificadas corretamente como 5s (verdadeiros positivos). \n",
    "\n",
    "Um classificador perfeito teria apenas verdadeiros positivos e verdadeiros negativos, então sua matriz de confusão teria valores diferentes de zero apenas em sua diagonal principal (superior esquerdo para inferior direito):"
   ]
  },
  {
   "cell_type": "code",
   "execution_count": 19,
   "metadata": {},
   "outputs": [
    {
     "data": {
      "text/plain": [
       "array([[54579,     0],\n",
       "       [    0,  5421]])"
      ]
     },
     "execution_count": 19,
     "metadata": {},
     "output_type": "execute_result"
    }
   ],
   "source": [
    "# Mostrando como seria uma matriz de confusão \"perfeita\"\n",
    "y_train_perfect_predictions = y_train_5\n",
    "confusion_matrix(y_train_5, y_train_perfect_predictions)"
   ]
  },
  {
   "cell_type": "markdown",
   "metadata": {},
   "source": [
    "## 3.3.3 Precisão e Revocação\n",
    "\n",
    "A matriz de confusão fornece muitas informações, mas às vezes você pode preferir uma métrica mais concisa. Um aspecto interessante de se observar é a precisão do classificador para as predições positivas.\n",
    "\n",
    "A precisão é normalmente usada junto com outra métrica chamada recall, também chamada de sensibilidade ou revocação.\n",
    "\n",
    "O Scikit-Learn fornece várias funções para calcular as métricas do classificador, incluindo precisão e revocação:"
   ]
  },
  {
   "cell_type": "code",
   "execution_count": 20,
   "metadata": {},
   "outputs": [
    {
     "data": {
      "text/plain": [
       "0.8370879772350012"
      ]
     },
     "execution_count": 20,
     "metadata": {},
     "output_type": "execute_result"
    }
   ],
   "source": [
    "from sklearn.metrics import precision_score, recall_score\n",
    "\n",
    "# Calculando a precisão do modelo formulado no dataset de treino\n",
    "precision_score(y_train_5, y_train_pred)"
   ]
  },
  {
   "cell_type": "code",
   "execution_count": 21,
   "metadata": {},
   "outputs": [
    {
     "data": {
      "text/plain": [
       "0.6511713705958311"
      ]
     },
     "execution_count": 21,
     "metadata": {},
     "output_type": "execute_result"
    }
   ],
   "source": [
    "# Calculando a revocação do modelo formulado no dataset de treino\n",
    "recall_score(y_train_5, y_train_pred)"
   ]
  },
  {
   "cell_type": "markdown",
   "metadata": {},
   "source": [
    "Muitas vezes, é conveniente combinar precisão e revocação em uma única métrica chamada F1-score. Muito utilizado se você precisa de uma maneira simples de comparar dois classificadores. O F1-Score é a média harmônica de precisão com a revocação. Infelizmente, você não pode ter as duas coisas: aumentar a precisão reduz o recall e vice-versa. Isso é chamado de _precision/recall tradeoff_."
   ]
  },
  {
   "cell_type": "code",
   "execution_count": 22,
   "metadata": {},
   "outputs": [
    {
     "data": {
      "text/plain": [
       "0.7325171197343846"
      ]
     },
     "execution_count": 22,
     "metadata": {},
     "output_type": "execute_result"
    }
   ],
   "source": [
    "from sklearn.metrics import f1_score\n",
    "\n",
    "# Calculando o F1-Score do modelo formulado no dataset de treino\n",
    "f1_score(y_train_5, y_train_pred)"
   ]
  },
  {
   "cell_type": "markdown",
   "metadata": {},
   "source": [
    "### 3.3.4 Precisão/Revocação _Tradeoff_\n",
    "\n",
    "Para entender este _tradeoff_, vamos ver como o SGDClassifier toma suas decisões de classificação. Para cada instância, ele calcula uma pontuação com base em uma função de decisão e, se essa pontuação for maior que um limite, ele atribui a instância à classe positiva ou então a atribui à classe negativa.\n",
    "\n",
    "O Scikit-Learn não permite que você defina o limite diretamente, mas dá acesso às pontuações de decisão que usa para fazer previsões. Em vez de chamar o método `predict()` do classificador, você pode chamar seu método `decision_function()`, que retorna uma pontuação para cada instância e, em seguida, fazer previsões com base nessas pontuações usando qualquer limite que você quiser:"
   ]
  },
  {
   "cell_type": "code",
   "execution_count": 23,
   "metadata": {},
   "outputs": [
    {
     "data": {
      "text/plain": [
       "array([2164.22030239])"
      ]
     },
     "execution_count": 23,
     "metadata": {},
     "output_type": "execute_result"
    }
   ],
   "source": [
    "# Retornando o score fornecido para o X[0]\n",
    "y_scores = sgd_clf.decision_function([some_digit])\n",
    "y_scores"
   ]
  },
  {
   "cell_type": "code",
   "execution_count": 24,
   "metadata": {},
   "outputs": [],
   "source": [
    "# Considerando que a predição vai ser positiva se o score for > 0\n",
    "threshold = 0\n",
    "y_some_digit_pred = (y_scores > threshold)"
   ]
  },
  {
   "cell_type": "code",
   "execution_count": 25,
   "metadata": {},
   "outputs": [
    {
     "data": {
      "text/plain": [
       "array([ True])"
      ]
     },
     "execution_count": 25,
     "metadata": {},
     "output_type": "execute_result"
    }
   ],
   "source": [
    "y_some_digit_pred"
   ]
  },
  {
   "cell_type": "code",
   "execution_count": 26,
   "metadata": {},
   "outputs": [
    {
     "data": {
      "text/plain": [
       "array([False])"
      ]
     },
     "execution_count": 26,
     "metadata": {},
     "output_type": "execute_result"
    }
   ],
   "source": [
    "# Considerando que a predição vai ser positiva se o score for > 8000\n",
    "threshold = 8000\n",
    "y_some_digit_pred = (y_scores > threshold)\n",
    "y_some_digit_pred"
   ]
  },
  {
   "cell_type": "markdown",
   "metadata": {},
   "source": [
    "Agora, como você decide qual limite usar? Para isso, primeiro você precisará obter as pontuações de todas as instâncias no conjunto de treinamento usando a função `cross_val_predict()` novamente, mas desta vez especificando que deseja retornar pontuações de decisão em vez de previsões:"
   ]
  },
  {
   "cell_type": "code",
   "execution_count": 27,
   "metadata": {},
   "outputs": [],
   "source": [
    "# Realizando a validação cruzada obtendo a função de decisão como saída\n",
    "y_scores = cross_val_predict(sgd_clf, X_train, y_train_5, cv=3,\n",
    "                             method=\"decision_function\")"
   ]
  },
  {
   "cell_type": "markdown",
   "metadata": {},
   "source": [
    "Agora, com essas pontuações, você pode calcular a precisão e revocação de todos os limites possíveis usando a função `precision_recall_curve()`:"
   ]
  },
  {
   "cell_type": "code",
   "execution_count": 28,
   "metadata": {},
   "outputs": [],
   "source": [
    "from sklearn.metrics import precision_recall_curve\n",
    "\n",
    "precisions, recalls, thresholds = precision_recall_curve(y_train_5, y_scores)"
   ]
  },
  {
   "cell_type": "markdown",
   "metadata": {},
   "source": [
    "Finalmente, você pode representar graficamente a precisão e a revocação como funções do valor limite usando Matplotlib. Neste caso em especial queremos uma precisão maior ou igual que 90%:"
   ]
  },
  {
   "cell_type": "code",
   "execution_count": 29,
   "metadata": {},
   "outputs": [
    {
     "data": {
      "image/png": "[encoded data removed]",
      "text/plain": [
       "<Figure size 576x288 with 1 Axes>"
      ]
     },
     "metadata": {
      "needs_background": "light"
     },
     "output_type": "display_data"
    }
   ],
   "source": [
    "def plot_precision_recall_vs_threshold(precisions, recalls, thresholds):\n",
    "    plt.plot(thresholds, precisions[:-1], \"b--\", label=\"Precision\", linewidth=2)\n",
    "    plt.plot(thresholds, recalls[:-1], \"g-\", label=\"Recall\", linewidth=2)\n",
    "    plt.legend(loc=\"center right\", fontsize=16)\n",
    "    plt.xlabel(\"Threshold\", fontsize=16)       \n",
    "    plt.grid(True)                              \n",
    "    plt.axis([-50000, 50000, 0, 1])             \n",
    "\n",
    "recall_90_precision = recalls[np.argmax(precisions >= 0.90)]\n",
    "threshold_90_precision = thresholds[np.argmax(precisions >= 0.90)]\n",
    "\n",
    "plt.figure(figsize=(8, 4))                                                                  \n",
    "plot_precision_recall_vs_threshold(precisions, recalls, thresholds)\n",
    "plt.plot([threshold_90_precision, threshold_90_precision], [0., 0.9], \"r:\")                 \n",
    "plt.plot([-50000, threshold_90_precision], [0.9, 0.9], \"r:\")                                \n",
    "plt.plot([-50000, threshold_90_precision], [recall_90_precision, recall_90_precision], \"r:\")\n",
    "plt.plot([threshold_90_precision], [0.9], \"ro\")                                             \n",
    "plt.plot([threshold_90_precision], [recall_90_precision], \"ro\")                             \n",
    "plt.show()"
   ]
  },
  {
   "cell_type": "markdown",
   "metadata": {},
   "source": [
    "Outra maneira de selecionar uma boa compensação de precisão/revocação é traçar a precisão diretamente em relação à revocação:"
   ]
  },
  {
   "cell_type": "code",
   "execution_count": 30,
   "metadata": {},
   "outputs": [
    {
     "data": {
      "image/png": "[encoded data removed]",
      "text/plain": [
       "<Figure size 576x432 with 1 Axes>"
      ]
     },
     "metadata": {
      "needs_background": "light"
     },
     "output_type": "display_data"
    }
   ],
   "source": [
    "def plot_precision_vs_recall(precisions, recalls):\n",
    "    plt.plot(recalls, precisions, \"b-\", linewidth=2)\n",
    "    plt.xlabel(\"Recall\", fontsize=16)\n",
    "    plt.ylabel(\"Precision\", fontsize=16)\n",
    "    plt.axis([0, 1, 0, 1])\n",
    "    plt.grid(True)\n",
    "\n",
    "plt.figure(figsize=(8, 6))\n",
    "plot_precision_vs_recall(precisions, recalls)\n",
    "plt.plot([0.4368, 0.4368], [0., 0.9], \"r:\")\n",
    "plt.plot([0.0, 0.4368], [0.9, 0.9], \"r:\")\n",
    "plt.plot([0.4368], [0.9], \"ro\")\n",
    "plt.show()"
   ]
  },
  {
   "cell_type": "markdown",
   "metadata": {},
   "source": [
    "Vamos supor que você decida ter como objetivo a precisão de 90%. Você olha o primeiro gráfico e descobre que precisa usar um limite de cerca de 8.000. Para ser mais preciso, você pode pesquisar o limite mais baixo que fornece pelo menos 90% de precisão (`np.argmax()` nos dará o primeiro índice do valor máximo, que neste caso significa o primeiro valor True):"
   ]
  },
  {
   "cell_type": "code",
   "execution_count": 31,
   "metadata": {},
   "outputs": [],
   "source": [
    "threshold_90_precision = thresholds[np.argmax(precisions >= 0.90)]"
   ]
  },
  {
   "cell_type": "code",
   "execution_count": 32,
   "metadata": {},
   "outputs": [
    {
     "data": {
      "text/plain": [
       "3370.0194991439557"
      ]
     },
     "execution_count": 32,
     "metadata": {},
     "output_type": "execute_result"
    }
   ],
   "source": [
    "threshold_90_precision"
   ]
  },
  {
   "cell_type": "markdown",
   "metadata": {},
   "source": [
    "Para fazer previsões (no conjunto de treinamento por enquanto), em vez de chamar o método `predict()` do classificador, você pode apenas executar este código:"
   ]
  },
  {
   "cell_type": "code",
   "execution_count": 33,
   "metadata": {},
   "outputs": [],
   "source": [
    "y_train_pred_90 = (y_scores >= threshold_90_precision)"
   ]
  },
  {
   "cell_type": "markdown",
   "metadata": {},
   "source": [
    "Vamos então checar a precisão e revocação para estas predições:"
   ]
  },
  {
   "cell_type": "code",
   "execution_count": 34,
   "metadata": {},
   "outputs": [
    {
     "data": {
      "text/plain": [
       "0.9000345901072293"
      ]
     },
     "execution_count": 34,
     "metadata": {},
     "output_type": "execute_result"
    }
   ],
   "source": [
    "precision_score(y_train_5, y_train_pred_90)"
   ]
  },
  {
   "cell_type": "code",
   "execution_count": 35,
   "metadata": {},
   "outputs": [
    {
     "data": {
      "text/plain": [
       "0.4799852425751706"
      ]
     },
     "execution_count": 35,
     "metadata": {},
     "output_type": "execute_result"
    }
   ],
   "source": [
    "recall_score(y_train_5, y_train_pred_90)"
   ]
  },
  {
   "cell_type": "markdown",
   "metadata": {},
   "source": [
    "Ótimo, você tem um classificador de precisão de 90%! Como você pode ver, é bastante fácil criar um classificador com praticamente qualquer precisão desejada: basta definir um limite alto o suficiente e pronto. Um classificador de alta precisão não é muito útil se sua revocação for muito baixa!"
   ]
  },
  {
   "cell_type": "markdown",
   "metadata": {},
   "source": [
    "### 3.3.4 Cuvas ROC\n",
    "\n",
    "A curva _receiver operating characteristic_ (ROC) é outra ferramenta comumente usada com classificadores binários. É muito semelhante à curva de precisão/revocação, mas em vez de traçar a precisão versus revocação, a curva ROC traça a taxa de verdadeiro positivo (outro nome para a revocação) contra a taxa de falso positivo. O FPR é a proporção de ocorrências negativas classificadas incorretamente como positivas. É igual a um menos a taxa negativa verdadeira, que é a proporção de ocorrências negativas que são classificadas corretamente como negativas. O TNR também é chamado de especificidade. Portanto, a curva ROC representa a sensibilidade (revocação) versus 1 - especificidade.\n",
    "\n",
    "Para plotar a curva ROC, você primeiro precisa calcular o TPR e FPR para vários valores, usando a função `roc_curve()`:"
   ]
  },
  {
   "cell_type": "code",
   "execution_count": 36,
   "metadata": {},
   "outputs": [],
   "source": [
    "from sklearn.metrics import roc_curve\n",
    "\n",
    "# Calculando o FPR e TPR para plotar a curva ROC\n",
    "fpr, tpr, thresholds = roc_curve(y_train_5, y_scores)"
   ]
  },
  {
   "cell_type": "code",
   "execution_count": 37,
   "metadata": {},
   "outputs": [
    {
     "data": {
      "image/png": "[encoded data removed]",
      "text/plain": [
       "<Figure size 576x432 with 1 Axes>"
      ]
     },
     "metadata": {
      "needs_background": "light"
     },
     "output_type": "display_data"
    }
   ],
   "source": [
    "# Função que plota a curva ROC, utilizando o FPR e o TPR\n",
    "def plot_roc_curve(fpr, tpr, label=None):\n",
    "    # Plotando as linhas do FPR e TPR\n",
    "    plt.plot(fpr, tpr, linewidth=2, label=label)\n",
    "    \n",
    "    # Plotando a diagonal tracejada, os rótulos e o grid\n",
    "    plt.plot([0, 1], [0, 1], 'k--')\n",
    "    plt.axis([0, 1, 0, 1])                                    \n",
    "    plt.xlabel('False Positive Rate (Fall-Out)', fontsize=16)\n",
    "    plt.ylabel('True Positive Rate (Recall)', fontsize=16)\n",
    "    plt.grid(True)\n",
    "\n",
    "plt.figure(figsize=(8, 6))                         \n",
    "\n",
    "# Gerando a curva ROC e as linhas auxiliares vermelhas\n",
    "plot_roc_curve(fpr, tpr)\n",
    "plt.plot([4.837e-3, 4.837e-3], [0., 0.4368], \"r:\")\n",
    "plt.plot([0.0, 4.837e-3], [0.4368, 0.4368], \"r:\")\n",
    "plt.plot([4.837e-3], [0.4368], \"ro\")\n",
    "plt.show()"
   ]
  },
  {
   "cell_type": "markdown",
   "metadata": {},
   "source": [
    "Mais uma vez, há uma compensação: quanto maior o recall (TPR), mais falsos positivos (FPR) o classificador produz. A linha pontilhada representa a curva ROC de um classificador puramente aleatório; um bom classificador fica o mais longe possível dessa linha (em direção ao canto superior esquerdo). Uma maneira de comparar os classificadores é medir a área sob a curva (AUC). Um classificador perfeito terá um ROC AUC igual a 1, enquanto um classificador puramente aleatório terá um ROC AUC igual a 0,5. O Scikit-Learn fornece uma função para calcular o ROC AUC:"
   ]
  },
  {
   "cell_type": "code",
   "execution_count": 38,
   "metadata": {},
   "outputs": [
    {
     "data": {
      "text/plain": [
       "0.9604938554008616"
      ]
     },
     "execution_count": 38,
     "metadata": {},
     "output_type": "execute_result"
    }
   ],
   "source": [
    "from sklearn.metrics import roc_auc_score\n",
    "\n",
    "roc_auc_score(y_train_5, y_scores)"
   ]
  },
  {
   "cell_type": "markdown",
   "metadata": {},
   "source": [
    "Como a curva ROC é tão semelhante à curva de precisão/recall (ou PR), você pode se perguntar como decidir qual usar. Como regra geral, você deve preferir a curva PR sempre que a classe positiva for rara ou quando você se preocupa mais com os falsos positivos do que com os falsos negativos, e a curva ROC caso contrário.\n",
    "\n",
    "\n",
    "Vamos treinar um `RandomForestClassifier` e comparar sua curva ROC e pontuação ROC AUC com o `SGDClassifier`. Primeiro, você precisa obter pontuações para cada instância no conjunto de treinamento:"
   ]
  },
  {
   "cell_type": "code",
   "execution_count": 39,
   "metadata": {},
   "outputs": [],
   "source": [
    "from sklearn.ensemble import RandomForestClassifier\n",
    "\n",
    "# Inicializando o modelo com a Floresta Randômica\n",
    "forest_clf = RandomForestClassifier(n_estimators=100, random_state=42)\n",
    "\n",
    "# Realizando a predição via validação cruzada com 3 folds\n",
    "y_probas_forest = cross_val_predict(forest_clf, X_train, y_train_5, cv=3,\n",
    "                                    method=\"predict_proba\")"
   ]
  },
  {
   "cell_type": "markdown",
   "metadata": {},
   "source": [
    "Para traçar uma curva ROC, você precisa de pontuações, não de probabilidades. Uma solução simples é usar a probabilidade da classe positiva como pontuação:"
   ]
  },
  {
   "cell_type": "code",
   "execution_count": 40,
   "metadata": {},
   "outputs": [],
   "source": [
    "# score = Probabilidade da classe positiva\n",
    "y_scores_forest = y_probas_forest[:, 1]\n",
    "\n",
    "# Gerando a curva ROC usando os scores e o rótulo do treino\n",
    "fpr_forest, tpr_forest, thresholds_forest = roc_curve(y_train_5, y_scores_forest)"
   ]
  },
  {
   "cell_type": "markdown",
   "metadata": {},
   "source": [
    "Agora você está pronto para plotar a curva ROC. É útil traçar a primeira curva ROC também para ver como eles se comparam:"
   ]
  },
  {
   "cell_type": "code",
   "execution_count": 41,
   "metadata": {},
   "outputs": [
    {
     "data": {
      "image/png": "[encoded data removed]",
      "text/plain": [
       "<Figure size 576x432 with 1 Axes>"
      ]
     },
     "metadata": {
      "needs_background": "light"
     },
     "output_type": "display_data"
    }
   ],
   "source": [
    "plt.figure(figsize=(8, 6))\n",
    "\n",
    "# Plotando a curva ROC do SGDClassifier\n",
    "plt.plot(fpr, tpr, \"b:\", linewidth=2, label=\"SGD\")\n",
    "\n",
    "# Plotando a curva ROC do RandomForestClassifier\n",
    "plot_roc_curve(fpr_forest, tpr_forest, \"Random Forest\")\n",
    "\n",
    "plt.plot([4.837e-3, 4.837e-3], [0., 0.4368], \"r:\")\n",
    "plt.plot([0.0, 4.837e-3], [0.4368, 0.4368], \"r:\")\n",
    "plt.plot([4.837e-3], [0.4368], \"ro\")\n",
    "plt.plot([4.837e-3, 4.837e-3], [0., 0.9487], \"r:\")\n",
    "plt.plot([4.837e-3], [0.9487], \"ro\")\n",
    "plt.grid(True)\n",
    "plt.legend(loc=\"lower right\", fontsize=16)\n",
    "\n",
    "plt.show()"
   ]
  },
  {
   "cell_type": "markdown",
   "metadata": {},
   "source": [
    "Como você pode ver, a curva ROC do `RandomForestClassifier` parece muito melhor do que a do `SGDClassifier`: ela se aproxima muito do canto superior esquerdo. Como resultado, sua pontuação ROC AUC também é significativamente melhor:"
   ]
  },
  {
   "cell_type": "code",
   "execution_count": 42,
   "metadata": {},
   "outputs": [
    {
     "data": {
      "text/plain": [
       "0.9983436731328145"
      ]
     },
     "execution_count": 42,
     "metadata": {},
     "output_type": "execute_result"
    }
   ],
   "source": [
    "roc_auc_score(y_train_5, y_scores_forest)"
   ]
  },
  {
   "cell_type": "markdown",
   "metadata": {},
   "source": [
    "As pontuações de precisão e recall são respectivamente 99,0% de precisão e 86,6% de recall:"
   ]
  },
  {
   "cell_type": "code",
   "execution_count": 43,
   "metadata": {},
   "outputs": [
    {
     "data": {
      "text/plain": [
       "0.9905083315756169"
      ]
     },
     "execution_count": 43,
     "metadata": {},
     "output_type": "execute_result"
    }
   ],
   "source": [
    "y_train_pred_forest = cross_val_predict(forest_clf, X_train, y_train_5, cv=3)\n",
    "\n",
    "# Calculando a precisão\n",
    "precision_score(y_train_5, y_train_pred_forest)"
   ]
  },
  {
   "cell_type": "code",
   "execution_count": 44,
   "metadata": {},
   "outputs": [
    {
     "data": {
      "text/plain": [
       "0.8662608374838591"
      ]
     },
     "execution_count": 44,
     "metadata": {},
     "output_type": "execute_result"
    }
   ],
   "source": [
    "# Calculando a revocação\n",
    "recall_score(y_train_5, y_train_pred_forest)"
   ]
  },
  {
   "cell_type": "markdown",
   "metadata": {},
   "source": [
    "## 3.4 Classificação Multiclasse\n",
    "\n",
    "Enquanto os classificadores binários distinguem entre duas classes, os classificadores multiclasse (também chamados de classificadores multinomiais) podem distinguir entre mais de duas classes.\n",
    "\n",
    "Alguns algoritmos (como classificadores Random Forest ou classificadores naive Bayes) são capazes de lidar com várias classes diretamente. Outros (como classificadores Support Vector Machine ou Lineares) são estritamente binários. No entanto, existem várias estratégias que você pode usar para realizar a classificação multiclasse usando vários classificadores binários.\n",
    "\n",
    "Por exemplo, uma maneira de criar um sistema que pode classificar as imagens de dígitos em 10 classes (de 0 a 9) é treinar 10 classificadores binários, um para cada dígito (um detector 0, um detector 1, um detector 2 , e assim por diante). Então, quando quiser classificar uma imagem, você obtém a pontuação de decisão de cada classificador para aquela imagem e seleciona a classe cujo classificador produz a pontuação mais alta. Isso é chamado de estratégia _one-versus-all_ (OvA) (também chamada de _one-versus-the-rest_).\n",
    "\n",
    "Outra estratégia é treinar um classificador binário para cada par de dígitos: um para distinguir 0s e 1s, outro para distinguir 0s e 2s, outro para 1s e 2s e assim por diante. Isso é chamado de estratégia _one-versus-one_ (OvO). Se houver N classes, você precisará treinar N × (N - 1) / 2 classificadores.\n",
    "\n",
    "O Scikit-Learn detecta quando você tenta usar um algoritmo de classificação binária para uma tarefa de classificação multiclasse e executa o OvA automaticamente (exceto para classificadores SVM para os quais usa o OvO). Vamos tentar isso com o `SVM`:"
   ]
  },
  {
   "cell_type": "code",
   "execution_count": 45,
   "metadata": {},
   "outputs": [
    {
     "data": {
      "text/plain": [
       "array([5], dtype=uint8)"
      ]
     },
     "execution_count": 45,
     "metadata": {},
     "output_type": "execute_result"
    }
   ],
   "source": [
    "from sklearn.svm import SVC\n",
    "\n",
    "# Definindo e ajustando o modelo SVM \n",
    "svm_clf = SVC(gamma=\"auto\", random_state=42)\n",
    "svm_clf.fit(X_train[:1000], y_train[:1000])\n",
    "\n",
    "# Gerando a predição do modelo\n",
    "svm_clf.predict([some_digit])"
   ]
  },
  {
   "cell_type": "markdown",
   "metadata": {},
   "source": [
    "Este código treina o `SVM` no conjunto de treinamento usando as classes de destino originais de 0 a 9 (y_train), em vez das classes de destino 5 versus todas (y_train_5). Em seguida, ele faz uma previsão (uma correta neste caso). Nos bastidores, o Scikit-Learn realmente treinou 10 classificadores binários, obteve suas pontuações de decisão para a imagem e selecionou a classe com a pontuação mais alta.\n",
    "\n",
    "Para ver que este é realmente o caso, você pode chamar o método `decision_function()`. Em vez de retornar apenas quem atingiu a maior pontuação, agora retorna as 10 pontuações, uma por classe:"
   ]
  },
  {
   "cell_type": "code",
   "execution_count": 46,
   "metadata": {},
   "outputs": [
    {
     "data": {
      "text/plain": [
       "array([[ 2.81585438,  7.09167958,  3.82972099,  0.79365551,  5.8885703 ,\n",
       "         9.29718395,  1.79862509,  8.10392157, -0.228207  ,  4.83753243]])"
      ]
     },
     "execution_count": 46,
     "metadata": {},
     "output_type": "execute_result"
    }
   ],
   "source": [
    "some_digit_scores = svm_clf.decision_function([some_digit])\n",
    "some_digit_scores"
   ]
  },
  {
   "cell_type": "markdown",
   "metadata": {},
   "source": [
    "A pontuação mais alta é, de fato, aquela correspondente à classe 5:"
   ]
  },
  {
   "cell_type": "code",
   "execution_count": 47,
   "metadata": {},
   "outputs": [
    {
     "data": {
      "text/plain": [
       "5"
      ]
     },
     "execution_count": 47,
     "metadata": {},
     "output_type": "execute_result"
    }
   ],
   "source": [
    "np.argmax(some_digit_scores)"
   ]
  },
  {
   "cell_type": "code",
   "execution_count": 48,
   "metadata": {},
   "outputs": [
    {
     "data": {
      "text/plain": [
       "array([0, 1, 2, 3, 4, 5, 6, 7, 8, 9], dtype=uint8)"
      ]
     },
     "execution_count": 48,
     "metadata": {},
     "output_type": "execute_result"
    }
   ],
   "source": [
    "svm_clf.classes_"
   ]
  },
  {
   "cell_type": "code",
   "execution_count": 49,
   "metadata": {},
   "outputs": [
    {
     "data": {
      "text/plain": [
       "5"
      ]
     },
     "execution_count": 49,
     "metadata": {},
     "output_type": "execute_result"
    }
   ],
   "source": [
    "svm_clf.classes_[5]"
   ]
  },
  {
   "cell_type": "markdown",
   "metadata": {},
   "source": [
    "Se você deseja forçar o ScikitLearn a usar _one-versus-one_ ou _one-versus-all_, você pode usar as classes `OneVsOneClassifier` ou `OneVsRestClassifier`. Simplesmente crie uma instância e passe um classificador binário para seu construtor. Por exemplo, este código cria um classificador multiclasse usando a estratégia OvA, com base em um `SVM`:"
   ]
  },
  {
   "cell_type": "code",
   "execution_count": 50,
   "metadata": {},
   "outputs": [
    {
     "data": {
      "text/plain": [
       "array([5], dtype=uint8)"
      ]
     },
     "execution_count": 50,
     "metadata": {},
     "output_type": "execute_result"
    }
   ],
   "source": [
    "from sklearn.multiclass import OneVsRestClassifier\n",
    "\n",
    "# Criando e ajustando uma estratégia OvA com um modelo SVM\n",
    "ovr_clf = OneVsRestClassifier(SVC(gamma=\"auto\", random_state=42))\n",
    "ovr_clf.fit(X_train[:1000], y_train[:1000])\n",
    "\n",
    "# Gerando a predição do modelo criado\n",
    "ovr_clf.predict([some_digit])"
   ]
  },
  {
   "cell_type": "code",
   "execution_count": 51,
   "metadata": {},
   "outputs": [
    {
     "data": {
      "text/plain": [
       "10"
      ]
     },
     "execution_count": 51,
     "metadata": {},
     "output_type": "execute_result"
    }
   ],
   "source": [
    "len(ovr_clf.estimators_)"
   ]
  },
  {
   "cell_type": "markdown",
   "metadata": {},
   "source": [
    "Ajustando e predizendo agora com um `SGDClassifier`: "
   ]
  },
  {
   "cell_type": "code",
   "execution_count": 52,
   "metadata": {},
   "outputs": [
    {
     "data": {
      "text/plain": [
       "array([3], dtype=uint8)"
      ]
     },
     "execution_count": 52,
     "metadata": {},
     "output_type": "execute_result"
    }
   ],
   "source": [
    "# Ajustando ao modelo\n",
    "sgd_clf.fit(X_train, y_train)\n",
    "\n",
    "# Gerando a predição do modelo criado\n",
    "sgd_clf.predict([some_digit])"
   ]
  },
  {
   "cell_type": "code",
   "execution_count": 53,
   "metadata": {},
   "outputs": [
    {
     "data": {
      "text/plain": [
       "array([[-31893.03095419, -34419.69069632,  -9530.63950739,\n",
       "          1823.73154031, -22320.14822878,  -1385.80478895,\n",
       "        -26188.91070951, -16147.51323997,  -4604.35491274,\n",
       "        -12050.767298  ]])"
      ]
     },
     "execution_count": 53,
     "metadata": {},
     "output_type": "execute_result"
    }
   ],
   "source": [
    "sgd_clf.decision_function([some_digit])"
   ]
  },
  {
   "cell_type": "code",
   "execution_count": 54,
   "metadata": {},
   "outputs": [
    {
     "data": {
      "text/plain": [
       "array([0.8983, 0.891 , 0.9018])"
      ]
     },
     "execution_count": 54,
     "metadata": {},
     "output_type": "execute_result"
    }
   ],
   "source": [
    "from sklearn.preprocessing import StandardScaler\n",
    "\n",
    "scaler = StandardScaler()\n",
    "X_train_scaled = scaler.fit_transform(X_train.astype(np.float64))\n",
    "\n",
    "cross_val_score(sgd_clf, X_train_scaled, y_train, cv=3, scoring='accuracy')"
   ]
  },
  {
   "cell_type": "markdown",
   "metadata": {},
   "source": [
    "## 3.5 Análise de Erro\n",
    "\n",
    "Vamos supor que você encontrou um modelo promissor e deseja encontrar maneiras de melhorá-lo. Uma maneira de fazer isso é analisar os tipos de erros que ele comete.\n",
    "\n",
    "Primeiro, você pode examinar a matriz de confusão. Você precisa fazer previsões usando a função `cross_val_predict()` e, em seguida, chamar a função `confused_matrix()`, assim como você fez antes:"
   ]
  },
  {
   "cell_type": "code",
   "execution_count": 55,
   "metadata": {},
   "outputs": [
    {
     "data": {
      "text/plain": [
       "array([[5577,    0,   22,    5,    8,   43,   36,    6,  225,    1],\n",
       "       [   0, 6400,   37,   24,    4,   44,    4,    7,  212,   10],\n",
       "       [  27,   27, 5220,   92,   73,   27,   67,   36,  378,   11],\n",
       "       [  22,   17,  117, 5227,    2,  203,   27,   40,  403,   73],\n",
       "       [  12,   14,   41,    9, 5182,   12,   34,   27,  347,  164],\n",
       "       [  27,   15,   30,  168,   53, 4444,   75,   14,  535,   60],\n",
       "       [  30,   15,   42,    3,   44,   97, 5552,    3,  131,    1],\n",
       "       [  21,   10,   51,   30,   49,   12,    3, 5684,  195,  210],\n",
       "       [  17,   63,   48,   86,    3,  126,   25,   10, 5429,   44],\n",
       "       [  25,   18,   30,   64,  118,   36,    1,  179,  371, 5107]])"
      ]
     },
     "execution_count": 55,
     "metadata": {},
     "output_type": "execute_result"
    }
   ],
   "source": [
    "# Gerando a predição através da validação cruzada com 3 folds\n",
    "y_train_pred = cross_val_predict(sgd_clf, X_train_scaled, y_train, cv=3)\n",
    "\n",
    "# Plotando a matriz de confução\n",
    "conf_mx = confusion_matrix(y_train, y_train_pred)\n",
    "conf_mx"
   ]
  },
  {
   "cell_type": "markdown",
   "metadata": {},
   "source": [
    "São muitos números. Muitas vezes é mais conveniente olhar para uma representação de imagem da matriz de confusão, usando a função `matshow()` do Matplotlib:"
   ]
  },
  {
   "cell_type": "code",
   "execution_count": 56,
   "metadata": {},
   "outputs": [
    {
     "data": {
      "image/png": "[encoded data removed]",
      "text/plain": [
       "<Figure size 288x288 with 1 Axes>"
      ]
     },
     "metadata": {
      "needs_background": "light"
     },
     "output_type": "display_data"
    }
   ],
   "source": [
    "# Plotando a matriz de confusão em um gráfico de calor\n",
    "plt.matshow(conf_mx, cmap=plt.cm.gray)\n",
    "plt.show()"
   ]
  },
  {
   "cell_type": "markdown",
   "metadata": {},
   "source": [
    "Esta matriz de confusão parece bastante boa, já que a maioria das imagens está na diagonal principal, o que significa que foram classificadas corretamente. O 5s parece um pouco mais escuro do que os outros dígitos, o que pode significar que há menos imagens de 5s no conjunto de dados ou que o classificador não tem um desempenho tão bom nos 5s quanto nos outros dígitos. Na verdade, você pode verificar se são ambos os casos.\n",
    "\n",
    "Vamos focar o gráfico nos erros. Primeiro, você precisa dividir cada valor na matriz de confusão pelo número de imagens na classe correspondente, para que você possa comparar as taxas de erro em vez do número absoluto de erros (o que faria com que classes abundantes parecessem injustamente ruins):"
   ]
  },
  {
   "cell_type": "code",
   "execution_count": 57,
   "metadata": {},
   "outputs": [],
   "source": [
    "row_sums = conf_mx.sum(axis=1, keepdims=True)\n",
    "\n",
    "norm_conf_mx = conf_mx / row_sums"
   ]
  },
  {
   "cell_type": "markdown",
   "metadata": {},
   "source": [
    "Agora vamos preencher a diagonal com zeros para manter apenas os erros e representar o resultado:"
   ]
  },
  {
   "cell_type": "code",
   "execution_count": 58,
   "metadata": {},
   "outputs": [
    {
     "data": {
      "image/png": "[encoded data removed]",
      "text/plain": [
       "<Figure size 288x288 with 1 Axes>"
      ]
     },
     "metadata": {
      "needs_background": "light"
     },
     "output_type": "display_data"
    }
   ],
   "source": [
    "np.fill_diagonal(norm_conf_mx, 0)\n",
    "\n",
    "plt.matshow(norm_conf_mx, cmap=plt.cm.gray)\n",
    "plt.show()"
   ]
  },
  {
   "cell_type": "markdown",
   "metadata": {},
   "source": [
    "Agora você pode ver claramente os tipos de erros que o classificador comete. Lembre-se de que as linhas representam as classes reais, enquanto as colunas representam as classes previstas. \n",
    "\n",
    "A coluna da classe 8 é bem clara, o que indica que muitas imagens foram classificadas incorretamente como 8s. No entanto, a linha para a classe 8 não é tão ruim, informando que 8s reais em geral são classificados corretamente como 8s.\n",
    "\n",
    "A análise da matriz de confusão geralmente pode fornecer insights sobre maneiras de melhorar seu classificador. Olhando para esse gráfico, parece que seus esforços devem ser gastos na redução dos falsos 8s. Por exemplo, você pode tentar reunir mais dados de treinamento para dígitos que se parecem com 8s (mas não são) para que o classificador possa aprender a distingui-los dos 8s reais. Ou você poderia projetar novos recursos que ajudariam o classificador.\n",
    "\n",
    "Analisar erros individuais também pode ser uma boa maneira de obter insights sobre o que seu classificador está fazendo e por que está falhando, mas é mais difícil e demorado. Por exemplo, vamos traçar exemplos de 3s e 5s:"
   ]
  },
  {
   "cell_type": "code",
   "execution_count": 59,
   "metadata": {},
   "outputs": [
    {
     "data": {
      "image/png": "[encoded data removed]",
      "text/plain": [
       "<Figure size 576x576 with 4 Axes>"
      ]
     },
     "metadata": {
      "needs_background": "light"
     },
     "output_type": "display_data"
    }
   ],
   "source": [
    "cl_a, cl_b = 3, 5\n",
    "\n",
    "X_aa = X_train[(y_train == cl_a) & (y_train_pred == cl_a)]\n",
    "X_ab = X_train[(y_train == cl_a) & (y_train_pred == cl_b)]\n",
    "X_ba = X_train[(y_train == cl_b) & (y_train_pred == cl_a)]\n",
    "X_bb = X_train[(y_train == cl_b) & (y_train_pred == cl_b)]\n",
    "\n",
    "# Gerando 4 plotagens de 5x5, cada um com 25 dígitos\n",
    "plt.figure(figsize=(8,8))\n",
    "plt.subplot(221); plot_digits(X_aa[:25], images_per_row=5)\n",
    "plt.subplot(222); plot_digits(X_ab[:25], images_per_row=5)\n",
    "plt.subplot(223); plot_digits(X_ba[:25], images_per_row=5)\n",
    "plt.subplot(224); plot_digits(X_bb[:25], images_per_row=5)\n",
    "plt.show()"
   ]
  },
  {
   "cell_type": "markdown",
   "metadata": {},
   "source": [
    "Os dois blocos 5 × 5 à esquerda mostram dígitos classificados como 3s e os dois blocos 5 × 5 à direita mostram imagens classificadas como 5s. Alguns dos dígitos que o classificador errou (ou seja, nos blocos inferior esquerdo e superior direito) estão tão mal escritos que até mesmo um humano teria problemas para classificá-los (por exemplo, o 5 no primeira linha e 2ª coluna verdadeiramente parece um mal escrito 3). \n",
    "\n",
    "No entanto, a maioria das imagens classificadas incorretamente parecem erros óbvios para nós, e é difícil entender por que o classificador cometeu os erros que cometeu. O motivo é que usamos um SGDClassifier simples, que é um modelo linear. Tudo o que ele faz é atribuir um peso por classe a cada pixel e, quando vê uma nova imagem, apenas soma as intensidades de pixel ponderadas para obter uma pontuação para cada classe. Portanto, como os 3s e os 5s diferem apenas por alguns pixels, este modelo os confundirá facilmente.\n",
    "\n",
    "A principal diferença entre 3s e 5s é a posição da pequena linha que une a linha superior ao arco inferior. Se você desenhar um 3 com a junção ligeiramente deslocada para a esquerda, o classificador pode classificá-lo como um 5 e vice-versa. Em outras palavras, esse classificador é bastante sensível ao deslocamento e rotação da imagem. Portanto, uma maneira de reduzir a confusão 3/5 seria pré-processar as imagens para garantir que fiquem bem centralizadas e não muito giradas. Isso provavelmente ajudará a reduzir outros erros também."
   ]
  },
  {
   "cell_type": "markdown",
   "metadata": {},
   "source": [
    "# 3.6 Classificação Multilabel\n",
    "\n",
    "Até agora, cada instância sempre foi atribuída a apenas uma classe. Em alguns casos, você pode querer que seu classificador produza várias classes para cada instância. Por exemplo, considere um classificador de reconhecimento de rosto: o que ele deve fazer se reconhecer várias pessoas na mesma imagem? É claro que deve anexar um rótulo por pessoa que reconhece. Digamos que o classificador foi treinado para reconhecer três faces, Alice, Bob e Charlie; então, quando for mostrada uma imagem de Alice e Charlie, ele deve imprimir [1, 0, 1] (significando “Alice sim, Bob não, Charlie sim”). Esse sistema de classificação que produz várias tags binárias é chamado de sistema de classificação de múltiplos rótulos (_multilabel_).\n",
    "\n",
    "Ainda não entraremos em reconhecimento facial, mas vamos ver um exemplo mais simples, apenas para fins de ilustração:"
   ]
  },
  {
   "cell_type": "code",
   "execution_count": 60,
   "metadata": {},
   "outputs": [
    {
     "data": {
      "text/plain": [
       "KNeighborsClassifier(algorithm='auto', leaf_size=30, metric='minkowski',\n",
       "                     metric_params=None, n_jobs=None, n_neighbors=5, p=2,\n",
       "                     weights='uniform')"
      ]
     },
     "execution_count": 60,
     "metadata": {},
     "output_type": "execute_result"
    }
   ],
   "source": [
    "from sklearn.neighbors import KNeighborsClassifier\n",
    "\n",
    "# Preencha com True se o número for >= 7\n",
    "y_train_large = (y_train >= 7)\n",
    "\n",
    "# Preencha com True se o resto do número dividido por 2 é 1 (impar)\n",
    "y_train_odd = (y_train % 2 == 1)\n",
    "\n",
    "y_multilabel = np.c_[y_train_large, y_train_odd]\n",
    "\n",
    "# Inicializa e ajusta um modelo KNN\n",
    "knn_clf = KNeighborsClassifier()\n",
    "knn_clf.fit(X_train, y_multilabel)"
   ]
  },
  {
   "cell_type": "markdown",
   "metadata": {},
   "source": [
    "Este código cria uma matriz `y_multilabel` contendo dois rótulos de destino para cada imagem de dígito: o primeiro indica se o dígito é grande ou não (7, 8 ou 9) e o segundo indica se é ou não ímpar. As próximas linhas criam uma instância KNeighborsClassifier (que suporta classificação multilabel, mas nem todos os classificadores fazem) e nós a treinamos usando a matriz de múltiplos destinos. Agora você pode fazer uma previsão e perceber que ela produz dois rótulos:"
   ]
  },
  {
   "cell_type": "code",
   "execution_count": 61,
   "metadata": {},
   "outputs": [
    {
     "data": {
      "text/plain": [
       "array([[False,  True]])"
      ]
     },
     "execution_count": 61,
     "metadata": {},
     "output_type": "execute_result"
    }
   ],
   "source": [
    "knn_clf.predict([some_digit])"
   ]
  },
  {
   "cell_type": "markdown",
   "metadata": {},
   "source": [
    "O dígito 5 realmente não é grande (Falso) e é ímpar (Verdadeiro)."
   ]
  },
  {
   "cell_type": "markdown",
   "metadata": {},
   "source": [
    "Existem muitas maneiras de avaliar um classificador multilabel, e selecionar a métrica correta realmente depende do seu projeto. Por exemplo, uma abordagem é medir o F1-score para cada rótulo individual (ou qualquer outra métrica classificadora binária discutida anteriormente) e simplesmente calcular a média. Este código calcula o F1-score médio em todos os rótulos:"
   ]
  },
  {
   "cell_type": "code",
   "execution_count": 62,
   "metadata": {},
   "outputs": [
    {
     "data": {
      "text/plain": [
       "0.976410265560605"
      ]
     },
     "execution_count": 62,
     "metadata": {},
     "output_type": "execute_result"
    }
   ],
   "source": [
    "# Inicializando a validação cruzada com 3 folds\n",
    "y_train_knn_pred = cross_val_predict(knn_clf, X_train, y_multilabel, cv=3)\n",
    "\n",
    "# Obtendo a média dos F1-Score do multilabel\n",
    "f1_score(y_multilabel, y_train_knn_pred, average=\"macro\")"
   ]
  },
  {
   "cell_type": "markdown",
   "metadata": {},
   "source": [
    "Esta média do F1-Score pressupõe que todos os rótulos são igualmente importantes, o que pode não ser o caso. Em particular, se você tem muito mais fotos de Alice do que de Bob ou Charlie, você pode dar mais peso à pontuação do classificador nas fotos de Alice. Uma opção simples é dar a cada rótulo um peso igual ao seu \"suporte\" (ou seja, o número de instâncias com aquele rótulo de destino). Para fazer isso, basta definir `average=\"weighted\"` no código anterior."
   ]
  },
  {
   "cell_type": "markdown",
   "metadata": {},
   "source": [
    "# 3.7 Classificação Multioutput\n",
    "\n",
    "O último tipo de tarefa de classificação que vamos discutir aqui é chamada de classificação multioutput. É simplesmente uma generalização da classificação multilabel onde cada rótulo pode ser multiclasse (ou seja, pode ter mais de dois valores possíveis).\n",
    "\n",
    "Para ilustrar isso, vamos construir um sistema que remove o ruído das imagens. Ele tomará como entrada uma imagem de dígito ruidosa e (esperançosamente) produzirá uma imagem de dígito limpa, representada como um array de intensidades de pixel, assim como as imagens MNIST. Observe que a saída do classificador é multilabel (um rótulo por pixel) e cada rótulo pode ter vários valores (faixas de intensidade de pixel de 0 a 255). É, portanto, um exemplo de sistema de classificação de múltiplas saídas.\n",
    "\n",
    "Vamos começar criando os conjuntos de treinamento e teste pegando as imagens do MNIST e adicionando ruído às suas intensidades de pixel usando a função `randint()` do NumPy. As imagens alvo serão as imagens originais:"
   ]
  },
  {
   "cell_type": "code",
   "execution_count": 63,
   "metadata": {},
   "outputs": [],
   "source": [
    "# Inserindo ruído nas imagens do MNIST\n",
    "noise = np.random.randint(0, 100, (len(X_train), 784))\n",
    "X_train_mod = X_train + noise\n",
    "\n",
    "noise = np.random.randint(0, 100, (len(X_test), 784))\n",
    "X_test_mod = X_test + noise\n",
    "\n",
    "y_train_mod = X_train\n",
    "y_test_mod = X_test"
   ]
  },
  {
   "cell_type": "markdown",
   "metadata": {},
   "source": [
    "Vamos dar uma olhada em uma imagem do conjunto de teste:"
   ]
  },
  {
   "cell_type": "code",
   "execution_count": 64,
   "metadata": {},
   "outputs": [
    {
     "data": {
      "image/png": "[encoded data removed]",
      "text/plain": [
       "<Figure size 432x288 with 2 Axes>"
      ]
     },
     "metadata": {
      "needs_background": "light"
     },
     "output_type": "display_data"
    }
   ],
   "source": [
    "some_index = 0\n",
    "\n",
    "plt.subplot(121); plot_digit(X_test_mod[some_index])\n",
    "plt.subplot(122); plot_digit(y_test_mod[some_index])\n",
    "\n",
    "plt.show()"
   ]
  },
  {
   "cell_type": "markdown",
   "metadata": {},
   "source": [
    "À esquerda está a imagem de entrada com ruído e à direita está a imagem de destino limpa. Agora vamos treinar o classificador e fazê-lo limpar esta imagem:"
   ]
  },
  {
   "cell_type": "code",
   "execution_count": 65,
   "metadata": {},
   "outputs": [
    {
     "data": {
      "image/png": "[encoded data removed]",
      "text/plain": [
       "<Figure size 432x288 with 1 Axes>"
      ]
     },
     "metadata": {
      "needs_background": "light"
     },
     "output_type": "display_data"
    }
   ],
   "source": [
    "# Ajustando o modelo de classificação KNN\n",
    "knn_clf.fit(X_train_mod, y_train_mod)\n",
    "\n",
    "# Gerando a predição do KNN\n",
    "clean_digit = knn_clf.predict([X_test_mod[some_index]])\n",
    "\n",
    "plot_digit(clean_digit)"
   ]
  }
 ],
 "metadata": {
  "kernelspec": {
   "display_name": "Python 3",
   "language": "python",
   "name": "python3"
  },
  "language_info": {
   "codemirror_mode": {
    "name": "ipython",
    "version": 3
   },
   "file_extension": ".py",
   "mimetype": "text/x-python",
   "name": "python",
   "nbconvert_exporter": "python",
   "pygments_lexer": "ipython3",
   "version": "3.7.6"
  },
  "nav_menu": {},
  "toc": {
   "navigate_menu": true,
   "number_sections": true,
   "sideBar": true,
   "threshold": 6,
   "toc_cell": false,
   "toc_section_display": "block",
   "toc_window_display": false
  }
 },
 "nbformat": 4,
 "nbformat_minor": 4
}
